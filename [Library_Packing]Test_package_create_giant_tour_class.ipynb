{
  "nbformat": 4,
  "nbformat_minor": 0,
  "metadata": {
    "colab": {
      "name": "[Library_Packing]Test_package_create_giant_tour_class.ipynb",
      "provenance": [],
      "collapsed_sections": [],
      "include_colab_link": true
    },
    "kernelspec": {
      "name": "python3",
      "display_name": "Python 3"
    },
    "language_info": {
      "name": "python"
    }
  },
  "cells": [
    {
      "cell_type": "markdown",
      "metadata": {
        "id": "view-in-github",
        "colab_type": "text"
      },
      "source": [
        "<a href=\"https://colab.research.google.com/github/mrdo19111911/SML-Create-Giant-Tour/blob/main/%5BLibrary_Packing%5DTest_package_create_giant_tour_class.ipynb\" target=\"_parent\"><img src=\"https://colab.research.google.com/assets/colab-badge.svg\" alt=\"Open In Colab\"/></a>"
      ]
    },
    {
      "cell_type": "markdown",
      "source": [
        "#1 Install giant_tour_class package"
      ],
      "metadata": {
        "id": "V7nOwOAEvHUx"
      }
    },
    {
      "cell_type": "code",
      "source": [
        "# address of the package: https://pypi.org/project/SMLGT/\n",
        "!pip install SMLGT\n",
        "import GiantTour as gt\n",
        "%autosave 30"
      ],
      "metadata": {
        "colab": {
          "base_uri": "https://localhost:8080/",
          "height": 156
        },
        "id": "D-BaHNWUF6iw",
        "outputId": "ed4be48a-658c-4117-e061-223e4090aca9"
      },
      "execution_count": null,
      "outputs": [
        {
          "output_type": "stream",
          "name": "stdout",
          "text": [
            "Requirement already satisfied: SMLGT in /usr/local/lib/python3.7/dist-packages (0.1)\n",
            "Requirement already satisfied: kmedoids in /usr/local/lib/python3.7/dist-packages (from SMLGT) (0.3.1)\n",
            "Requirement already satisfied: ortools in /usr/local/lib/python3.7/dist-packages (from SMLGT) (9.3.10497)\n",
            "Requirement already satisfied: numpy in /usr/local/lib/python3.7/dist-packages (from kmedoids->SMLGT) (1.21.6)\n",
            "Requirement already satisfied: protobuf>=3.19.4 in /usr/local/lib/python3.7/dist-packages (from ortools->SMLGT) (3.20.1)\n",
            "Requirement already satisfied: absl-py>=0.13 in /usr/local/lib/python3.7/dist-packages (from ortools->SMLGT) (1.0.0)\n",
            "Requirement already satisfied: six in /usr/local/lib/python3.7/dist-packages (from absl-py>=0.13->ortools->SMLGT) (1.15.0)\n"
          ]
        },
        {
          "output_type": "display_data",
          "data": {
            "application/javascript": [
              "IPython.notebook.set_autosave_interval(30000)"
            ]
          },
          "metadata": {}
        },
        {
          "output_type": "stream",
          "name": "stdout",
          "text": [
            "Autosaving every 30 seconds\n"
          ]
        }
      ]
    },
    {
      "cell_type": "code",
      "source": [
        "gt._help()"
      ],
      "metadata": {
        "colab": {
          "base_uri": "https://localhost:8080/"
        },
        "id": "nKVuWecXR20_",
        "outputId": "3b5972c2-5cae-4040-b561-07b78096cfe3"
      },
      "execution_count": null,
      "outputs": [
        {
          "output_type": "stream",
          "name": "stdout",
          "text": [
            "This program computes a giant tour formed by a Distant Matrix, and a number of approximate cluster size.\n",
            "giant_tour_problem = GT(distant matrix, size of cluster). Output is a giant tour, in form of a list\n",
            "giant_tour_problem = gt.GT(DM_req,size_of_clusters= 6),\n",
            "s = giant_tour_problem.create_giant_tour()\n"
          ]
        }
      ]
    },
    {
      "cell_type": "markdown",
      "source": [
        "#2 Import required libriaries"
      ],
      "metadata": {
        "id": "NBSCa4f9vRDL"
      }
    },
    {
      "cell_type": "code",
      "execution_count": null,
      "metadata": {
        "id": "Yq6Wi2Rz9RP1"
      },
      "outputs": [],
      "source": [
        "# !pip install giant-tour-class\n",
        "# !pip install ortools\n",
        "# !pip install kmedoids\n",
        "\n",
        "import math\n",
        "import numpy as np\n",
        "import random as rd\n",
        "import numba\n",
        "from numba import njit\n",
        "# import matplotlib.pyplot as plt\n",
        "# from matplotlib.pyplot import figure\n",
        "# import kmedoids\n",
        "# from ortools.constraint_solver import routing_enums_pb2\n",
        "# from ortools.constraint_solver import pywrapcp"
      ]
    },
    {
      "cell_type": "markdown",
      "source": [
        "#3 Create fake data for creating a giant tour that uses giant_tour_class package"
      ],
      "metadata": {
        "id": "aYJmyV_rvpdI"
      }
    },
    {
      "cell_type": "code",
      "source": [
        "color_list =  ['k','g', 'r','b', 'dimgray', 'lime', 'orange', 'tomato', 'steelblue', 'hotpink', 'pink', 'y', 'navy']\n",
        "\n",
        "n = 50\n",
        "small_n= round(n/10) \n",
        "num_vehicles = 40\n",
        "depot = 0\n",
        "number_of_depots = 3\n",
        "number_of_clusters = 20\n",
        "max_travel = 200000000\n",
        "\n",
        "@njit\n",
        "def create_location(n, small_n):\n",
        "\n",
        "    location = np.empty((n,2), np.int_)\n",
        "    for i in range(small_n):\n",
        "        location[i][0],location[i][1]= rd.randint(0,1000), rd.randint(0,1000)\n",
        "    for i in range(3*small_n): \n",
        "        location[i+small_n][0],location[i+small_n][1]= rd.randint(0,1000), rd.randint(0,1000)\n",
        "        location[i+small_n*4][0],location[i+small_n*4][1]= rd.randint(0,1000), rd.randint(0,1000)\n",
        "        location[i+small_n*7][0],location[i+small_n*7][1]= rd.randint(0,1000), rd.randint(0,1000)\n",
        "\n",
        "    return location\n",
        "\n",
        "\n",
        "def create_distance_matrix(location, n):\n",
        "\n",
        "    @njit\n",
        "    def create_DM(location, n): \n",
        "        DM = np.empty((n,n), np.int_)\n",
        "\n",
        "        for i in range(n):\n",
        "            for j in range(n):\n",
        "                DM[i,j] =round(math.sqrt( (location[i][0]-location[j][0])**2+ (location[i][1]-location[j][1])**2 ))\n",
        "\n",
        "        return DM\n",
        "    \n",
        "    return create_DM(location, n)\n",
        "\n",
        "# khởi tạo location và distance matrix\n",
        "location = create_location(n, small_n)\n",
        "DM = create_distance_matrix(location, n)  "
      ],
      "metadata": {
        "colab": {
          "base_uri": "https://localhost:8080/"
        },
        "id": "2cBDGt9u9YyE",
        "outputId": "e01e317a-0dfb-4582-fcf1-92772fe327f0"
      },
      "execution_count": null,
      "outputs": [
        {
          "output_type": "execute_result",
          "data": {
            "text/plain": [
              "50"
            ]
          },
          "metadata": {},
          "execution_count": 10
        }
      ]
    },
    {
      "cell_type": "markdown",
      "source": [
        "#4 Call the class GT and functions inside of GT"
      ],
      "metadata": {
        "id": "btRxtyZMv6Om"
      }
    },
    {
      "cell_type": "code",
      "source": [
        "gt._help()"
      ],
      "metadata": {
        "colab": {
          "base_uri": "https://localhost:8080/"
        },
        "id": "Cg2LbgC8HmG-",
        "outputId": "fc60d3b5-cc47-4d77-83f3-6470c1c5d67f"
      },
      "execution_count": null,
      "outputs": [
        {
          "output_type": "stream",
          "name": "stdout",
          "text": [
            "This program computes a giant tour formed by a Distant Matrix, and a number of approximate cluster size.\n",
            "giant_tour_problem = GT(distant matrix, size of cluster). Output is a giant tour, in form of a list\n",
            "giant_tour_problem = gt.GT(DM_req,size_of_clusters= 6),\n",
            "s = giant_tour_problem.create_giant_tour()\n"
          ]
        }
      ]
    },
    {
      "cell_type": "code",
      "source": [
        "giant_tour_problem = gt.GT(DM,6)\n",
        "s = giant_tour_problem.create_giant_tour()"
      ],
      "metadata": {
        "id": "CAAYNsETqvY9"
      },
      "execution_count": null,
      "outputs": []
    },
    {
      "cell_type": "code",
      "source": [
        "s"
      ],
      "metadata": {
        "colab": {
          "base_uri": "https://localhost:8080/"
        },
        "id": "CVRrO04SA9CO",
        "outputId": "8a237243-800b-4700-9dfa-217e8f246481"
      },
      "execution_count": null,
      "outputs": [
        {
          "output_type": "execute_result",
          "data": {
            "text/plain": [
              "array([ 0, 18, 47, 31, 24, 45, 11,  6, 21, 32, 29,  1, 25, 41, 16, 27, 12,\n",
              "        7, 46,  8, 33, 17, 10, 13, 44, 36, 22, 30, 15, 40, 14,  9,  5, 49,\n",
              "       38, 48, 37, 42, 43, 19,  2, 23, 26, 20, 35, 28,  4, 39,  3, 34])"
            ]
          },
          "metadata": {},
          "execution_count": 15
        }
      ]
    }
  ]
}